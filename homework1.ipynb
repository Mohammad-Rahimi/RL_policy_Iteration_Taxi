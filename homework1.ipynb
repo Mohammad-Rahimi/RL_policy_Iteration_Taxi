import gym # openAi gym
from gym import envs
import numpy as np 
{
 "cells": [
  {
   "cell_type": "code",
   "execution_count": null,
   "metadata": {},
   "outputs": [],
   "source": [
    "'''\n",
    "in this part we define a function determining the best value fucntion for a single action of a given policy that we use later in our code\n",
    "'''\n",
    "def policy_eval(policy, env, discount_factor=1.0, theta=0.00001):\n",
    "    V=np.zeros(env.env.nS)\n",
    "    while True:\n",
    "        delta=0\n",
    "        for state in range(env.env.nS):\n",
    "            val=0\n",
    "            for action, action_prob in enumerate(policy[state]):\n",
    "                for prob, next_state, reward, done in env.env.P[state][action]:\n",
    "                    val+=action_prob*prob*(reward+discount_factor*V[next_state])\n",
    "            delta=max(delta,np.abs(val-V[state]))\n",
    "            V[state]=val\n",
    "        if delta< theta:\n",
    "            break\n",
    "    return np.array(V)\n",
    "'''in this part we define a function that use the output of the previous function which would be a value function for a given policy to find the best policy with that value function and again use the function before to find a new best value function for new policy\n",
    "and find the best policy for that again.\n",
    "'''\n",
    "def policy_iteration (env, policy_eval_fn = policy_eval, discount_factor=1.0):\n",
    "    def one_step_lookahead(state, V):\n",
    "        A= np.zeros(env.env.nA)\n",
    "        for a in range(env.env.nA):\n",
    "            for prob, next_state, reward, done in env.env.P[state][a]:\n",
    "                A[a]+=prob*(reward+discount_factor*V[next_state])\n",
    "        return A\n",
    "    policy= np.ones([env.env.nS, env.env.nA])/env.env.nA\n",
    "    while True:\n",
    "        curr_pol_val=policy_eval_fn(policy,env,discount_factor)\n",
    "        policy_stable= True\n",
    "        for state in range(env.env.nS):\n",
    "            chosen_act=np.argmax(policy[state])\n",
    "            act_values=one_step_lookahead(state,curr_pol_val)\n",
    "            best_act= np.argmax(act_values)\n",
    "            if chosen_act != best_act:\n",
    "                policy_stable= False\n",
    "            policy[state]=np.eye(env.env.nA)[best_act]\n",
    "        if policy_stable:\n",
    "            return policy, curr_pol_val\n",
    "        V_f= curr_pol_val\n",
    "    return policy\n",
    "\n",
    "env = gym.make('Taxi-v3')\n",
    "aaa=policy_iteration(env,policy_eval,discount_factor=0.99)\n",
    "aaa[0]\n",
    "print(\"here is your result\")\n",
    "print(aaa)\n",
    "print(\"here is your value function\")\n",
    "final_policy = aaa[0]\n",
    "policy_eval(final_policy,env,discount_factor=0.99)\n"
   ]
  }
 ],
 "metadata": {
  "kernelspec": {
   "display_name": "Python 3",
   "language": "python",
   "name": "python3"
  },
  "language_info": {
   "codemirror_mode": {
    "name": "ipython",
    "version": 3
   },
   "file_extension": ".py",
   "mimetype": "text/x-python",
   "name": "python",
   "nbconvert_exporter": "python",
   "pygments_lexer": "ipython3",
   "version": "3.8.5"
  }
 },
 "nbformat": 4,
 "nbformat_minor": 4
}
